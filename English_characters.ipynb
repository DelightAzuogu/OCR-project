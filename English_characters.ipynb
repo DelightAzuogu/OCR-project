{
  "metadata": {
    "kernelspec": {
      "display_name": "Python 3",
      "name": "python3"
    },
    "language_info": {
      "name": "python",
      "version": "3.10.13",
      "mimetype": "text/x-python",
      "codemirror_mode": {
        "name": "ipython",
        "version": 3
      },
      "pygments_lexer": "ipython3",
      "nbconvert_exporter": "python",
      "file_extension": ".py"
    },
    "kaggle": {
      "accelerator": "gpu",
      "dataSources": [
        {
          "sourceId": 1972672,
          "sourceType": "datasetVersion",
          "datasetId": 1176843
        }
      ],
      "dockerImageVersionId": 30746,
      "isInternetEnabled": true,
      "language": "python",
      "sourceType": "notebook",
      "isGpuEnabled": true
    },
    "colab": {
      "provenance": [],
      "gpuType": "T4",
      "include_colab_link": true
    },
    "accelerator": "GPU"
  },
  "nbformat_minor": 0,
  "nbformat": 4,
  "cells": [
    {
      "cell_type": "markdown",
      "metadata": {
        "id": "view-in-github",
        "colab_type": "text"
      },
      "source": [
        "<a href=\"https://colab.research.google.com/github/DelightAzuogu/OCR-project/blob/master/English_characters.ipynb\" target=\"_parent\"><img src=\"https://colab.research.google.com/assets/colab-badge.svg\" alt=\"Open In Colab\"/></a>"
      ]
    },
    {
      "source": [
        "# IMPORTANT: RUN THIS CELL IN ORDER TO IMPORT YOUR KAGGLE DATA SOURCES,\n",
        "# THEN FEEL FREE TO DELETE THIS CELL.\n",
        "# NOTE: THIS NOTEBOOK ENVIRONMENT DIFFERS FROM KAGGLE'S PYTHON\n",
        "# ENVIRONMENT SO THERE MAY BE MISSING LIBRARIES USED BY YOUR\n",
        "# NOTEBOOK.\n",
        "import kagglehub\n",
        "dhruvildave_english_handwritten_characters_dataset_path = kagglehub.dataset_download('dhruvildave/english-handwritten-characters-dataset')\n",
        "\n",
        "print('Data source import complete.')\n"
      ],
      "metadata": {
        "id": "OD_Wnz4u0YOe",
        "outputId": "557f3bcf-30b2-4531-8776-1bda7a2ccecd",
        "colab": {
          "base_uri": "https://localhost:8080/"
        }
      },
      "cell_type": "code",
      "outputs": [
        {
          "output_type": "stream",
          "name": "stdout",
          "text": [
            "Data source import complete.\n"
          ]
        }
      ],
      "execution_count": 7
    },
    {
      "cell_type": "code",
      "source": [
        "# This Python 3 environment comes with many helpful analytics libraries installed\n",
        "# It is defined by the kaggle/python Docker image: https://github.com/kaggle/docker-python\n",
        "# For example, here's several helpful packages to load\n",
        "\n",
        "import numpy as np # linear algebra\n",
        "import pandas as pd # data processing, CSV file I/O (e.g. pd.read_csv)\n",
        "\n",
        "# Input data files are available in the read-only \"../input/\" directory\n",
        "# For example, running this (by clicking run or pressing Shift+Enter) will list all files under the input directory\n",
        "\n",
        "import os\n",
        "# for dirname, _, filenames in os.walk('/kaggle/input'):\n",
        "#     for filename in filenames:\n",
        "#         print(os.path.join(dirname, filename))\n",
        "\n",
        "# You can write up to 20GB to the current directory (/kaggle/working/) that gets preserved as output when you create a version using \"Save & Run All\"\n",
        "# You can also write temporary files to /kaggle/temp/, but they won't be saved outside of the current session"
      ],
      "metadata": {
        "_uuid": "8f2839f25d086af736a60e9eeb907d3b93b6e0e5",
        "_cell_guid": "b1076dfc-b9ad-4769-8c92-a6c4dae69d19",
        "execution": {
          "iopub.status.busy": "2024-07-30T20:25:03.064956Z",
          "iopub.execute_input": "2024-07-30T20:25:03.065227Z",
          "iopub.status.idle": "2024-07-30T20:25:03.454734Z",
          "shell.execute_reply.started": "2024-07-30T20:25:03.065201Z",
          "shell.execute_reply": "2024-07-30T20:25:03.45376Z"
        },
        "trusted": true,
        "id": "4jiuRRUd0YOh"
      },
      "execution_count": 8,
      "outputs": []
    },
    {
      "cell_type": "code",
      "source": [
        "import tensorflow as tf\n",
        "from tensorflow.keras.models import Sequential\n",
        "from tensorflow.keras.layers import Input , Dense, Dropout, Activation, Flatten, Conv2D, MaxPooling2D\n",
        "import cv2 as cv\n",
        "from sklearn.preprocessing import OneHotEncoder\n",
        "from sklearn.model_selection import train_test_split\n",
        "from sklearn.preprocessing import LabelEncoder\n",
        "from tensorflow.keras.preprocessing.image import ImageDataGenerator\n",
        "\n",
        "from tensorflow.keras.callbacks import EarlyStopping, LearningRateScheduler\n",
        "from tensorflow.keras.optimizers import Adam\n",
        "from sklearn.utils import shuffle\n",
        "\n",
        "import matplotlib.pyplot as plt"
      ],
      "metadata": {
        "execution": {
          "iopub.status.busy": "2024-07-30T20:25:03.455868Z",
          "iopub.execute_input": "2024-07-30T20:25:03.456338Z",
          "iopub.status.idle": "2024-07-30T20:25:07.049496Z",
          "shell.execute_reply.started": "2024-07-30T20:25:03.4563Z",
          "shell.execute_reply": "2024-07-30T20:25:07.048727Z"
        },
        "trusted": true,
        "id": "6paOa0lM0YOi"
      },
      "execution_count": 9,
      "outputs": []
    },
    {
      "cell_type": "code",
      "source": [
        "test_data = '/content/english (1).csv'\n",
        "df = pd.read_csv(test_data)"
      ],
      "metadata": {
        "execution": {
          "iopub.status.busy": "2024-07-30T20:25:07.050823Z",
          "iopub.execute_input": "2024-07-30T20:25:07.051318Z",
          "iopub.status.idle": "2024-07-30T20:25:07.060534Z",
          "shell.execute_reply.started": "2024-07-30T20:25:07.051291Z",
          "shell.execute_reply": "2024-07-30T20:25:07.059535Z"
        },
        "trusted": true,
        "id": "MsO-c0ee0YOj"
      },
      "execution_count": 10,
      "outputs": []
    },
    {
      "cell_type": "code",
      "source": [
        "df[\"label\"].value_counts()\n"
      ],
      "metadata": {
        "execution": {
          "iopub.status.busy": "2024-07-30T20:25:07.063769Z",
          "iopub.execute_input": "2024-07-30T20:25:07.064025Z",
          "iopub.status.idle": "2024-07-30T20:25:07.077376Z",
          "shell.execute_reply.started": "2024-07-30T20:25:07.064003Z",
          "shell.execute_reply": "2024-07-30T20:25:07.076512Z"
        },
        "trusted": true,
        "id": "3SK3peHh0YOj",
        "outputId": "57658bb2-e8d9-4303-c238-c155e419eae0",
        "colab": {
          "base_uri": "https://localhost:8080/",
          "height": 490
        }
      },
      "execution_count": 11,
      "outputs": [
        {
          "output_type": "execute_result",
          "data": {
            "text/plain": [
              "label\n",
              "0    55\n",
              "1    55\n",
              "2    55\n",
              "3    55\n",
              "4    55\n",
              "     ..\n",
              "v    55\n",
              "w    55\n",
              "x    55\n",
              "y    55\n",
              "z    55\n",
              "Name: count, Length: 62, dtype: int64"
            ],
            "text/html": [
              "<div>\n",
              "<style scoped>\n",
              "    .dataframe tbody tr th:only-of-type {\n",
              "        vertical-align: middle;\n",
              "    }\n",
              "\n",
              "    .dataframe tbody tr th {\n",
              "        vertical-align: top;\n",
              "    }\n",
              "\n",
              "    .dataframe thead th {\n",
              "        text-align: right;\n",
              "    }\n",
              "</style>\n",
              "<table border=\"1\" class=\"dataframe\">\n",
              "  <thead>\n",
              "    <tr style=\"text-align: right;\">\n",
              "      <th></th>\n",
              "      <th>count</th>\n",
              "    </tr>\n",
              "    <tr>\n",
              "      <th>label</th>\n",
              "      <th></th>\n",
              "    </tr>\n",
              "  </thead>\n",
              "  <tbody>\n",
              "    <tr>\n",
              "      <th>0</th>\n",
              "      <td>55</td>\n",
              "    </tr>\n",
              "    <tr>\n",
              "      <th>1</th>\n",
              "      <td>55</td>\n",
              "    </tr>\n",
              "    <tr>\n",
              "      <th>2</th>\n",
              "      <td>55</td>\n",
              "    </tr>\n",
              "    <tr>\n",
              "      <th>3</th>\n",
              "      <td>55</td>\n",
              "    </tr>\n",
              "    <tr>\n",
              "      <th>4</th>\n",
              "      <td>55</td>\n",
              "    </tr>\n",
              "    <tr>\n",
              "      <th>...</th>\n",
              "      <td>...</td>\n",
              "    </tr>\n",
              "    <tr>\n",
              "      <th>v</th>\n",
              "      <td>55</td>\n",
              "    </tr>\n",
              "    <tr>\n",
              "      <th>w</th>\n",
              "      <td>55</td>\n",
              "    </tr>\n",
              "    <tr>\n",
              "      <th>x</th>\n",
              "      <td>55</td>\n",
              "    </tr>\n",
              "    <tr>\n",
              "      <th>y</th>\n",
              "      <td>55</td>\n",
              "    </tr>\n",
              "    <tr>\n",
              "      <th>z</th>\n",
              "      <td>55</td>\n",
              "    </tr>\n",
              "  </tbody>\n",
              "</table>\n",
              "<p>62 rows × 1 columns</p>\n",
              "</div><br><label><b>dtype:</b> int64</label>"
            ]
          },
          "metadata": {},
          "execution_count": 11
        }
      ]
    },
    {
      "cell_type": "code",
      "source": [
        "# labels = df_test_data['label'].tolist()\n",
        "# labels"
      ],
      "metadata": {
        "execution": {
          "iopub.status.busy": "2024-07-30T20:25:07.078612Z",
          "iopub.execute_input": "2024-07-30T20:25:07.079057Z",
          "iopub.status.idle": "2024-07-30T20:25:07.086889Z",
          "shell.execute_reply.started": "2024-07-30T20:25:07.079026Z",
          "shell.execute_reply": "2024-07-30T20:25:07.086056Z"
        },
        "trusted": true,
        "id": "FVWfH-Uy0YOk"
      },
      "execution_count": null,
      "outputs": []
    },
    {
      "cell_type": "code",
      "source": [
        "images_path = '/kaggle/input/english-handwritten-characters-dataset/Img'\n",
        "\n",
        "# List to hold the dimensions of all images\n",
        "image_sizes = []\n",
        "\n",
        "for image_file in os.listdir(images_path):\n",
        "    image_path = os.path.join(images_path, image_file)\n",
        "    image = cv.imread(image_path)\n",
        "    if image is not None:\n",
        "        height, width = image.shape[:2]\n",
        "        image_sizes.append((width, height))\n",
        "\n",
        "# Print the size of the first image\n",
        "if image_sizes:\n",
        "    print(\"Size of the first image:\", image_sizes[1])\n",
        "    print(\"Unique image sizes:\", set(image_sizes))\n",
        "else:\n",
        "    print(\"No images found in the directory.\")"
      ],
      "metadata": {
        "execution": {
          "iopub.status.busy": "2024-07-30T20:25:07.08783Z",
          "iopub.execute_input": "2024-07-30T20:25:07.088078Z",
          "iopub.status.idle": "2024-07-30T20:25:40.906566Z",
          "shell.execute_reply.started": "2024-07-30T20:25:07.088056Z",
          "shell.execute_reply": "2024-07-30T20:25:40.90557Z"
        },
        "trusted": true,
        "id": "ycgEmrYA0YOk",
        "outputId": "85290465-a3f4-46ce-fad9-651218286c84",
        "colab": {
          "base_uri": "https://localhost:8080/"
        }
      },
      "execution_count": 12,
      "outputs": [
        {
          "output_type": "stream",
          "name": "stdout",
          "text": [
            "Size of the first image: (1200, 900)\n",
            "Unique image sizes: {(1200, 900)}\n"
          ]
        }
      ]
    },
    {
      "cell_type": "code",
      "source": [
        "images_path = '/kaggle/input/english-handwritten-characters-dataset/Img'\n",
        "images = []\n",
        "labels = []\n",
        "\n",
        "for image_file in os.listdir(images_path):\n",
        "    image_path = os.path.join(images_path, image_file)\n",
        "    image = cv.imread(image_path).astype('float32')\n",
        "    image = cv.resize(image, (64, 64))\n",
        "    image = cv.cvtColor(image, cv.COLOR_BGR2GRAY)\n",
        "    #image = cv.GaussianBlur(image, (1, 1), 0)\n",
        "    image /= 255.0\n",
        "    label_index = os.path.join(\"Img\", image_file)\n",
        "    label = df[df['image'] == label_index].label.values[0]\n",
        "    images.append(image)\n",
        "    labels.append(label)\n",
        "\n",
        "images = np.array(images)\n",
        "labels = np.array(labels)\n"
      ],
      "metadata": {
        "execution": {
          "iopub.status.busy": "2024-07-30T20:25:40.907748Z",
          "iopub.execute_input": "2024-07-30T20:25:40.908107Z",
          "iopub.status.idle": "2024-07-30T20:26:23.98707Z",
          "shell.execute_reply.started": "2024-07-30T20:25:40.908074Z",
          "shell.execute_reply": "2024-07-30T20:26:23.986077Z"
        },
        "trusted": true,
        "id": "1ene8cIv0YOk"
      },
      "execution_count": 13,
      "outputs": []
    },
    {
      "cell_type": "code",
      "source": [
        "plt.gray()\n",
        "plt.imshow(images[100])"
      ],
      "metadata": {
        "execution": {
          "iopub.status.busy": "2024-07-30T20:26:23.988337Z",
          "iopub.execute_input": "2024-07-30T20:26:23.988647Z",
          "iopub.status.idle": "2024-07-30T20:26:24.250257Z",
          "shell.execute_reply.started": "2024-07-30T20:26:23.988622Z",
          "shell.execute_reply": "2024-07-30T20:26:24.249297Z"
        },
        "trusted": true,
        "id": "VK8fMs1j0YOl",
        "outputId": "6e108d38-8460-4b55-af19-e5084431f4ab",
        "colab": {
          "base_uri": "https://localhost:8080/",
          "height": 449
        }
      },
      "execution_count": 14,
      "outputs": [
        {
          "output_type": "execute_result",
          "data": {
            "text/plain": [
              "<matplotlib.image.AxesImage at 0x7a2605eab4d0>"
            ]
          },
          "metadata": {},
          "execution_count": 14
        },
        {
          "output_type": "display_data",
          "data": {
            "text/plain": [
              "<Figure size 640x480 with 1 Axes>"
            ],
            "image/png": "[encoded data removed]"
          },
          "metadata": {}
        }
      ]
    },
    {
      "cell_type": "code",
      "source": [
        "print(\"Number of images:\", len(images))\n",
        "print(\"Shape of each image:\", images.shape[1:])\n",
        "print(\"Unique labels:\", np.unique(labels))"
      ],
      "metadata": {
        "execution": {
          "iopub.status.busy": "2024-07-30T20:26:24.251432Z",
          "iopub.execute_input": "2024-07-30T20:26:24.251739Z",
          "iopub.status.idle": "2024-07-30T20:26:24.257843Z",
          "shell.execute_reply.started": "2024-07-30T20:26:24.251702Z",
          "shell.execute_reply": "2024-07-30T20:26:24.256962Z"
        },
        "trusted": true,
        "id": "hHuu5doj0YOl",
        "outputId": "7c70e0a8-526b-4f0d-cb12-ae78a9ef8826",
        "colab": {
          "base_uri": "https://localhost:8080/"
        }
      },
      "execution_count": 15,
      "outputs": [
        {
          "output_type": "stream",
          "name": "stdout",
          "text": [
            "Number of images: 3410\n",
            "Shape of each image: (64, 64)\n",
            "Unique labels: ['0' '1' '2' '3' '4' '5' '6' '7' '8' '9' 'A' 'B' 'C' 'D' 'E' 'F' 'G' 'H'\n",
            " 'I' 'J' 'K' 'L' 'M' 'N' 'O' 'P' 'Q' 'R' 'S' 'T' 'U' 'V' 'W' 'X' 'Y' 'Z'\n",
            " 'a' 'b' 'c' 'd' 'e' 'f' 'g' 'h' 'i' 'j' 'k' 'l' 'm' 'n' 'o' 'p' 'q' 'r'\n",
            " 's' 't' 'u' 'v' 'w' 'x' 'y' 'z']\n"
          ]
        }
      ]
    },
    {
      "cell_type": "code",
      "source": [
        "# One hot encode the labels\n",
        "\n",
        "encoder = OneHotEncoder(sparse_output=False)\n",
        "labels = encoder.fit_transform(labels.reshape(-1, 1))\n"
      ],
      "metadata": {
        "execution": {
          "iopub.status.busy": "2024-07-30T20:26:24.259105Z",
          "iopub.execute_input": "2024-07-30T20:26:24.259696Z",
          "iopub.status.idle": "2024-07-30T20:26:24.274131Z",
          "shell.execute_reply.started": "2024-07-30T20:26:24.259663Z",
          "shell.execute_reply": "2024-07-30T20:26:24.273345Z"
        },
        "trusted": true,
        "id": "YPQ7-N5J0YOm"
      },
      "execution_count": 16,
      "outputs": []
    },
    {
      "cell_type": "code",
      "source": [
        "decoder = [str(i) for i in range(10)] + [chr(i) for i in range(65, 91)] + [chr(i) for i in range(97, 123)]\n"
      ],
      "metadata": {
        "execution": {
          "iopub.status.busy": "2024-07-30T20:26:24.275345Z",
          "iopub.execute_input": "2024-07-30T20:26:24.276306Z",
          "iopub.status.idle": "2024-07-30T20:26:24.281362Z",
          "shell.execute_reply.started": "2024-07-30T20:26:24.276276Z",
          "shell.execute_reply": "2024-07-30T20:26:24.280379Z"
        },
        "trusted": true,
        "id": "99hKe-mX0YOm"
      },
      "execution_count": 17,
      "outputs": []
    },
    {
      "cell_type": "code",
      "source": [
        "images, labels = shuffle(images, labels, random_state=0)\n"
      ],
      "metadata": {
        "execution": {
          "iopub.status.busy": "2024-07-30T20:26:24.282651Z",
          "iopub.execute_input": "2024-07-30T20:26:24.283203Z",
          "iopub.status.idle": "2024-07-30T20:26:24.310671Z",
          "shell.execute_reply.started": "2024-07-30T20:26:24.28314Z",
          "shell.execute_reply": "2024-07-30T20:26:24.309697Z"
        },
        "trusted": true,
        "id": "7qlvjIVu0YOm"
      },
      "execution_count": 18,
      "outputs": []
    },
    {
      "cell_type": "code",
      "source": [
        "from tensorflow.keras.callbacks import LearningRateScheduler\n",
        "import numpy as np\n",
        "\n",
        "# Define an exponential decay learning rate schedule function\n",
        "def exponential_decay(epoch, lr):\n",
        "    initial_lr = 0.001\n",
        "    k = 0.1\n",
        "    decay_rate = k ** (epoch / 10)\n",
        "    return initial_lr * decay_rate"
      ],
      "metadata": {
        "execution": {
          "iopub.status.busy": "2024-07-30T20:26:24.315008Z",
          "iopub.execute_input": "2024-07-30T20:26:24.315373Z",
          "iopub.status.idle": "2024-07-30T20:26:24.32045Z",
          "shell.execute_reply.started": "2024-07-30T20:26:24.315346Z",
          "shell.execute_reply": "2024-07-30T20:26:24.319512Z"
        },
        "trusted": true,
        "id": "J3m_Tpha0YOn"
      },
      "execution_count": 19,
      "outputs": []
    },
    {
      "cell_type": "code",
      "source": [
        "X_train, X_temp, Y_train, Y_temp = train_test_split(images, labels, test_size=0.3, random_state=0)\n",
        "X_val, X_test, Y_val, Y_test = train_test_split(X_temp, Y_temp, test_size=0.5, random_state=0)"
      ],
      "metadata": {
        "execution": {
          "iopub.status.busy": "2024-07-30T20:26:24.321736Z",
          "iopub.execute_input": "2024-07-30T20:26:24.322147Z",
          "iopub.status.idle": "2024-07-30T20:26:24.350593Z",
          "shell.execute_reply.started": "2024-07-30T20:26:24.322116Z",
          "shell.execute_reply": "2024-07-30T20:26:24.349839Z"
        },
        "trusted": true,
        "id": "FitvxUdR0YOn"
      },
      "execution_count": 20,
      "outputs": []
    },
    {
      "cell_type": "code",
      "source": [
        "datagen = ImageDataGenerator(\n",
        "    rotation_range=15,\n",
        "    width_shift_range=0.1,\n",
        "    height_shift_range=0.2,\n",
        "    zoom_range=0.2,\n",
        "    shear_range=0.2,\n",
        "    fill_mode='nearest'\n",
        ")"
      ],
      "metadata": {
        "execution": {
          "iopub.status.busy": "2024-07-30T20:26:24.351538Z",
          "iopub.execute_input": "2024-07-30T20:26:24.351829Z",
          "iopub.status.idle": "2024-07-30T20:26:24.357644Z",
          "shell.execute_reply.started": "2024-07-30T20:26:24.351804Z",
          "shell.execute_reply": "2024-07-30T20:26:24.356732Z"
        },
        "trusted": true,
        "id": "VrqWCpy50YOn"
      },
      "execution_count": 21,
      "outputs": []
    },
    {
      "cell_type": "code",
      "source": [
        "# Initialize lists to hold augmented images and labels\n",
        "augmented_arr_X = []\n",
        "augmented_arr_Y = []\n",
        "number_of_augmentation = 5\n",
        "\n",
        "# Iterate over each image in X_train\n",
        "for i in range(len(X_train)):\n",
        "    # Ensure the image has the correct shape (height, width, channels)\n",
        "    image = X_train[i]\n",
        "    if image.ndim == 2:\n",
        "        image = np.expand_dims(image, axis=-1)  # Convert (height, width) to (height, width, channels)\n",
        "\n",
        "    # Expand dimensions to include batch size\n",
        "    image_expanded = np.expand_dims(image, axis=0)  # Shape: (1, height, width, channels)\n",
        "\n",
        "    # Create iterator for augmented images\n",
        "    aug_iter = datagen.flow(image_expanded, batch_size=1)\n",
        "\n",
        "    # Generate augmented images\n",
        "    augmented_images = [next(aug_iter)[0] for _ in range(number_of_augmentation)]\n",
        "\n",
        "    # Extend the list with the new augmented images and corresponding labels\n",
        "    augmented_arr_X.extend(augmented_images)\n",
        "    augmented_arr_Y.extend([Y_train[i]] * number_of_augmentation)\n",
        "\n",
        "# Convert lists to numpy arrays\n",
        "augmented_arr_X = np.array(augmented_arr_X)\n",
        "augmented_arr_Y = np.array(augmented_arr_Y)\n",
        "\n",
        "print(\"Augmented images shape:\", augmented_arr_X.shape)\n",
        "print(\"Augmented labels shape:\", augmented_arr_Y.shape)"
      ],
      "metadata": {
        "execution": {
          "iopub.status.busy": "2024-07-30T20:26:24.358741Z",
          "iopub.execute_input": "2024-07-30T20:26:24.359001Z",
          "iopub.status.idle": "2024-07-30T20:26:30.376762Z",
          "shell.execute_reply.started": "2024-07-30T20:26:24.358979Z",
          "shell.execute_reply": "2024-07-30T20:26:30.375791Z"
        },
        "trusted": true,
        "id": "9QNzaNHE0YOn",
        "outputId": "feea4634-0e1a-4fe2-f8db-b94cb5dcca04",
        "colab": {
          "base_uri": "https://localhost:8080/"
        }
      },
      "execution_count": 49,
      "outputs": [
        {
          "output_type": "stream",
          "name": "stdout",
          "text": [
            "Augmented images shape: (59675, 64, 64, 1)\n",
            "Augmented labels shape: (59675, 62)\n"
          ]
        }
      ]
    },
    {
      "cell_type": "code",
      "source": [
        "X_train = np.array(augmented_arr_X)\n",
        "Y_train = np.array(augmented_arr_Y)"
      ],
      "metadata": {
        "execution": {
          "iopub.status.busy": "2024-07-30T20:26:30.378411Z",
          "iopub.execute_input": "2024-07-30T20:26:30.378761Z",
          "iopub.status.idle": "2024-07-30T20:26:30.455054Z",
          "shell.execute_reply.started": "2024-07-30T20:26:30.378707Z",
          "shell.execute_reply": "2024-07-30T20:26:30.454242Z"
        },
        "trusted": true,
        "id": "iefdUjVD0YOo"
      },
      "execution_count": 23,
      "outputs": []
    },
    {
      "cell_type": "code",
      "source": [
        "X_train, Y_train = shuffle(X_train, Y_train, random_state=0)\n"
      ],
      "metadata": {
        "execution": {
          "iopub.status.busy": "2024-07-30T20:26:30.45624Z",
          "iopub.execute_input": "2024-07-30T20:26:30.456592Z",
          "iopub.status.idle": "2024-07-30T20:26:30.522463Z",
          "shell.execute_reply.started": "2024-07-30T20:26:30.45656Z",
          "shell.execute_reply": "2024-07-30T20:26:30.521413Z"
        },
        "trusted": true,
        "id": "ppSxIWjA0YOo"
      },
      "execution_count": 47,
      "outputs": []
    },
    {
      "cell_type": "code",
      "source": [
        "# Plot 9 random images for visualisation\n",
        "\n",
        "def display_images(rows, cols, images, labels, decoder):\n",
        "    _, axes = plt.subplots(nrows = 3, ncols = 3, figsize=(12,6))\n",
        "\n",
        "    for i, ax in enumerate(axes.flatten()):\n",
        "        ax.imshow(images[i], cmap='gray')\n",
        "        ax.set_xticks([])\n",
        "        ax.set_yticks([])\n",
        "        ax.set_title(f\"Label: {decoder[np.where(labels[i]==1)[0][0]]}\")\n",
        "\n",
        "display_images(3, 3, images, labels, decoder)"
      ],
      "metadata": {
        "execution": {
          "iopub.status.busy": "2024-07-30T20:26:30.523725Z",
          "iopub.execute_input": "2024-07-30T20:26:30.524036Z",
          "iopub.status.idle": "2024-07-30T20:26:31.081618Z",
          "shell.execute_reply.started": "2024-07-30T20:26:30.524009Z",
          "shell.execute_reply": "2024-07-30T20:26:31.080677Z"
        },
        "trusted": true,
        "id": "Evnzys3s0YOo",
        "outputId": "546599db-03d4-4dee-9307-4336773004db",
        "colab": {
          "base_uri": "https://localhost:8080/",
          "height": 832
        }
      },
      "execution_count": 50,
      "outputs": [
        {
          "output_type": "error",
          "ename": "TypeError",
          "evalue": "Invalid shape (1, 60, 40, 1) for image data",
          "traceback": [
            "\u001b[0;31m---------------------------------------------------------------------------\u001b[0m",
            "\u001b[0;31mTypeError\u001b[0m                                 Traceback (most recent call last)",
            "\u001b[0;32m<ipython-input-50-569c6757a6a7>\u001b[0m in \u001b[0;36m<cell line: 0>\u001b[0;34m()\u001b[0m\n\u001b[1;32m     10\u001b[0m         \u001b[0max\u001b[0m\u001b[0;34m.\u001b[0m\u001b[0mset_title\u001b[0m\u001b[0;34m(\u001b[0m\u001b[0;34mf\"Label: {decoder[np.where(labels[i]==1)[0][0]]}\"\u001b[0m\u001b[0;34m)\u001b[0m\u001b[0;34m\u001b[0m\u001b[0;34m\u001b[0m\u001b[0m\n\u001b[1;32m     11\u001b[0m \u001b[0;34m\u001b[0m\u001b[0m\n\u001b[0;32m---> 12\u001b[0;31m \u001b[0mdisplay_images\u001b[0m\u001b[0;34m(\u001b[0m\u001b[0;36m3\u001b[0m\u001b[0;34m,\u001b[0m \u001b[0;36m3\u001b[0m\u001b[0;34m,\u001b[0m \u001b[0mimages\u001b[0m\u001b[0;34m,\u001b[0m \u001b[0mlabels\u001b[0m\u001b[0;34m,\u001b[0m \u001b[0mdecoder\u001b[0m\u001b[0;34m)\u001b[0m\u001b[0;34m\u001b[0m\u001b[0;34m\u001b[0m\u001b[0m\n\u001b[0m",
            "\u001b[0;32m<ipython-input-50-569c6757a6a7>\u001b[0m in \u001b[0;36mdisplay_images\u001b[0;34m(rows, cols, images, labels, decoder)\u001b[0m\n\u001b[1;32m      5\u001b[0m \u001b[0;34m\u001b[0m\u001b[0m\n\u001b[1;32m      6\u001b[0m     \u001b[0;32mfor\u001b[0m \u001b[0mi\u001b[0m\u001b[0;34m,\u001b[0m \u001b[0max\u001b[0m \u001b[0;32min\u001b[0m \u001b[0menumerate\u001b[0m\u001b[0;34m(\u001b[0m\u001b[0maxes\u001b[0m\u001b[0;34m.\u001b[0m\u001b[0mflatten\u001b[0m\u001b[0;34m(\u001b[0m\u001b[0;34m)\u001b[0m\u001b[0;34m)\u001b[0m\u001b[0;34m:\u001b[0m\u001b[0;34m\u001b[0m\u001b[0;34m\u001b[0m\u001b[0m\n\u001b[0;32m----> 7\u001b[0;31m         \u001b[0max\u001b[0m\u001b[0;34m.\u001b[0m\u001b[0mimshow\u001b[0m\u001b[0;34m(\u001b[0m\u001b[0mimages\u001b[0m\u001b[0;34m[\u001b[0m\u001b[0mi\u001b[0m\u001b[0;34m]\u001b[0m\u001b[0;34m,\u001b[0m \u001b[0mcmap\u001b[0m\u001b[0;34m=\u001b[0m\u001b[0;34m'gray'\u001b[0m\u001b[0;34m)\u001b[0m\u001b[0;34m\u001b[0m\u001b[0;34m\u001b[0m\u001b[0m\n\u001b[0m\u001b[1;32m      8\u001b[0m         \u001b[0max\u001b[0m\u001b[0;34m.\u001b[0m\u001b[0mset_xticks\u001b[0m\u001b[0;34m(\u001b[0m\u001b[0;34m[\u001b[0m\u001b[0;34m]\u001b[0m\u001b[0;34m)\u001b[0m\u001b[0;34m\u001b[0m\u001b[0;34m\u001b[0m\u001b[0m\n\u001b[1;32m      9\u001b[0m         \u001b[0max\u001b[0m\u001b[0;34m.\u001b[0m\u001b[0mset_yticks\u001b[0m\u001b[0;34m(\u001b[0m\u001b[0;34m[\u001b[0m\u001b[0;34m]\u001b[0m\u001b[0;34m)\u001b[0m\u001b[0;34m\u001b[0m\u001b[0;34m\u001b[0m\u001b[0m\n",
            "\u001b[0;32m/usr/local/lib/python3.11/dist-packages/matplotlib/__init__.py\u001b[0m in \u001b[0;36minner\u001b[0;34m(ax, data, *args, **kwargs)\u001b[0m\n\u001b[1;32m   1519\u001b[0m     \u001b[0;32mdef\u001b[0m \u001b[0minner\u001b[0m\u001b[0;34m(\u001b[0m\u001b[0max\u001b[0m\u001b[0;34m,\u001b[0m \u001b[0;34m*\u001b[0m\u001b[0margs\u001b[0m\u001b[0;34m,\u001b[0m \u001b[0mdata\u001b[0m\u001b[0;34m=\u001b[0m\u001b[0;32mNone\u001b[0m\u001b[0;34m,\u001b[0m \u001b[0;34m**\u001b[0m\u001b[0mkwargs\u001b[0m\u001b[0;34m)\u001b[0m\u001b[0;34m:\u001b[0m\u001b[0;34m\u001b[0m\u001b[0;34m\u001b[0m\u001b[0m\n\u001b[1;32m   1520\u001b[0m         \u001b[0;32mif\u001b[0m \u001b[0mdata\u001b[0m \u001b[0;32mis\u001b[0m \u001b[0;32mNone\u001b[0m\u001b[0;34m:\u001b[0m\u001b[0;34m\u001b[0m\u001b[0;34m\u001b[0m\u001b[0m\n\u001b[0;32m-> 1521\u001b[0;31m             return func(\n\u001b[0m\u001b[1;32m   1522\u001b[0m                 \u001b[0max\u001b[0m\u001b[0;34m,\u001b[0m\u001b[0;34m\u001b[0m\u001b[0;34m\u001b[0m\u001b[0m\n\u001b[1;32m   1523\u001b[0m                 \u001b[0;34m*\u001b[0m\u001b[0mmap\u001b[0m\u001b[0;34m(\u001b[0m\u001b[0mcbook\u001b[0m\u001b[0;34m.\u001b[0m\u001b[0msanitize_sequence\u001b[0m\u001b[0;34m,\u001b[0m \u001b[0margs\u001b[0m\u001b[0;34m)\u001b[0m\u001b[0;34m,\u001b[0m\u001b[0;34m\u001b[0m\u001b[0;34m\u001b[0m\u001b[0m\n",
            "\u001b[0;32m/usr/local/lib/python3.11/dist-packages/matplotlib/axes/_axes.py\u001b[0m in \u001b[0;36mimshow\u001b[0;34m(self, X, cmap, norm, aspect, interpolation, alpha, vmin, vmax, colorizer, origin, extent, interpolation_stage, filternorm, filterrad, resample, url, **kwargs)\u001b[0m\n\u001b[1;32m   5943\u001b[0m             \u001b[0mself\u001b[0m\u001b[0;34m.\u001b[0m\u001b[0mset_aspect\u001b[0m\u001b[0;34m(\u001b[0m\u001b[0maspect\u001b[0m\u001b[0;34m)\u001b[0m\u001b[0;34m\u001b[0m\u001b[0;34m\u001b[0m\u001b[0m\n\u001b[1;32m   5944\u001b[0m \u001b[0;34m\u001b[0m\u001b[0m\n\u001b[0;32m-> 5945\u001b[0;31m         \u001b[0mim\u001b[0m\u001b[0;34m.\u001b[0m\u001b[0mset_data\u001b[0m\u001b[0;34m(\u001b[0m\u001b[0mX\u001b[0m\u001b[0;34m)\u001b[0m\u001b[0;34m\u001b[0m\u001b[0;34m\u001b[0m\u001b[0m\n\u001b[0m\u001b[1;32m   5946\u001b[0m         \u001b[0mim\u001b[0m\u001b[0;34m.\u001b[0m\u001b[0mset_alpha\u001b[0m\u001b[0;34m(\u001b[0m\u001b[0malpha\u001b[0m\u001b[0;34m)\u001b[0m\u001b[0;34m\u001b[0m\u001b[0;34m\u001b[0m\u001b[0m\n\u001b[1;32m   5947\u001b[0m         \u001b[0;32mif\u001b[0m \u001b[0mim\u001b[0m\u001b[0;34m.\u001b[0m\u001b[0mget_clip_path\u001b[0m\u001b[0;34m(\u001b[0m\u001b[0;34m)\u001b[0m \u001b[0;32mis\u001b[0m \u001b[0;32mNone\u001b[0m\u001b[0;34m:\u001b[0m\u001b[0;34m\u001b[0m\u001b[0;34m\u001b[0m\u001b[0m\n",
            "\u001b[0;32m/usr/local/lib/python3.11/dist-packages/matplotlib/image.py\u001b[0m in \u001b[0;36mset_data\u001b[0;34m(self, A)\u001b[0m\n\u001b[1;32m    673\u001b[0m         \u001b[0;32mif\u001b[0m \u001b[0misinstance\u001b[0m\u001b[0;34m(\u001b[0m\u001b[0mA\u001b[0m\u001b[0;34m,\u001b[0m \u001b[0mPIL\u001b[0m\u001b[0;34m.\u001b[0m\u001b[0mImage\u001b[0m\u001b[0;34m.\u001b[0m\u001b[0mImage\u001b[0m\u001b[0;34m)\u001b[0m\u001b[0;34m:\u001b[0m\u001b[0;34m\u001b[0m\u001b[0;34m\u001b[0m\u001b[0m\n\u001b[1;32m    674\u001b[0m             \u001b[0mA\u001b[0m \u001b[0;34m=\u001b[0m \u001b[0mpil_to_array\u001b[0m\u001b[0;34m(\u001b[0m\u001b[0mA\u001b[0m\u001b[0;34m)\u001b[0m  \u001b[0;31m# Needed e.g. to apply png palette.\u001b[0m\u001b[0;34m\u001b[0m\u001b[0;34m\u001b[0m\u001b[0m\n\u001b[0;32m--> 675\u001b[0;31m         \u001b[0mself\u001b[0m\u001b[0;34m.\u001b[0m\u001b[0m_A\u001b[0m \u001b[0;34m=\u001b[0m \u001b[0mself\u001b[0m\u001b[0;34m.\u001b[0m\u001b[0m_normalize_image_array\u001b[0m\u001b[0;34m(\u001b[0m\u001b[0mA\u001b[0m\u001b[0;34m)\u001b[0m\u001b[0;34m\u001b[0m\u001b[0;34m\u001b[0m\u001b[0m\n\u001b[0m\u001b[1;32m    676\u001b[0m         \u001b[0mself\u001b[0m\u001b[0;34m.\u001b[0m\u001b[0m_imcache\u001b[0m \u001b[0;34m=\u001b[0m \u001b[0;32mNone\u001b[0m\u001b[0;34m\u001b[0m\u001b[0;34m\u001b[0m\u001b[0m\n\u001b[1;32m    677\u001b[0m         \u001b[0mself\u001b[0m\u001b[0;34m.\u001b[0m\u001b[0mstale\u001b[0m \u001b[0;34m=\u001b[0m \u001b[0;32mTrue\u001b[0m\u001b[0;34m\u001b[0m\u001b[0;34m\u001b[0m\u001b[0m\n",
            "\u001b[0;32m/usr/local/lib/python3.11/dist-packages/matplotlib/image.py\u001b[0m in \u001b[0;36m_normalize_image_array\u001b[0;34m(A)\u001b[0m\n\u001b[1;32m    641\u001b[0m             \u001b[0mA\u001b[0m \u001b[0;34m=\u001b[0m \u001b[0mA\u001b[0m\u001b[0;34m.\u001b[0m\u001b[0msqueeze\u001b[0m\u001b[0;34m(\u001b[0m\u001b[0;34m-\u001b[0m\u001b[0;36m1\u001b[0m\u001b[0;34m)\u001b[0m  \u001b[0;31m# If just (M, N, 1), assume scalar and apply colormap.\u001b[0m\u001b[0;34m\u001b[0m\u001b[0;34m\u001b[0m\u001b[0m\n\u001b[1;32m    642\u001b[0m         \u001b[0;32mif\u001b[0m \u001b[0;32mnot\u001b[0m \u001b[0;34m(\u001b[0m\u001b[0mA\u001b[0m\u001b[0;34m.\u001b[0m\u001b[0mndim\u001b[0m \u001b[0;34m==\u001b[0m \u001b[0;36m2\u001b[0m \u001b[0;32mor\u001b[0m \u001b[0mA\u001b[0m\u001b[0;34m.\u001b[0m\u001b[0mndim\u001b[0m \u001b[0;34m==\u001b[0m \u001b[0;36m3\u001b[0m \u001b[0;32mand\u001b[0m \u001b[0mA\u001b[0m\u001b[0;34m.\u001b[0m\u001b[0mshape\u001b[0m\u001b[0;34m[\u001b[0m\u001b[0;34m-\u001b[0m\u001b[0;36m1\u001b[0m\u001b[0;34m]\u001b[0m \u001b[0;32min\u001b[0m \u001b[0;34m[\u001b[0m\u001b[0;36m3\u001b[0m\u001b[0;34m,\u001b[0m \u001b[0;36m4\u001b[0m\u001b[0;34m]\u001b[0m\u001b[0;34m)\u001b[0m\u001b[0;34m:\u001b[0m\u001b[0;34m\u001b[0m\u001b[0;34m\u001b[0m\u001b[0m\n\u001b[0;32m--> 643\u001b[0;31m             \u001b[0;32mraise\u001b[0m \u001b[0mTypeError\u001b[0m\u001b[0;34m(\u001b[0m\u001b[0;34mf\"Invalid shape {A.shape} for image data\"\u001b[0m\u001b[0;34m)\u001b[0m\u001b[0;34m\u001b[0m\u001b[0;34m\u001b[0m\u001b[0m\n\u001b[0m\u001b[1;32m    644\u001b[0m         \u001b[0;32mif\u001b[0m \u001b[0mA\u001b[0m\u001b[0;34m.\u001b[0m\u001b[0mndim\u001b[0m \u001b[0;34m==\u001b[0m \u001b[0;36m3\u001b[0m\u001b[0;34m:\u001b[0m\u001b[0;34m\u001b[0m\u001b[0;34m\u001b[0m\u001b[0m\n\u001b[1;32m    645\u001b[0m             \u001b[0;31m# If the input data has values outside the valid range (after\u001b[0m\u001b[0;34m\u001b[0m\u001b[0;34m\u001b[0m\u001b[0m\n",
            "\u001b[0;31mTypeError\u001b[0m: Invalid shape (1, 60, 40, 1) for image data"
          ]
        },
        {
          "output_type": "display_data",
          "data": {
            "text/plain": [
              "<Figure size 1200x600 with 9 Axes>"
            ],
            "image/png": "[encoded data removed]"
          },
          "metadata": {}
        }
      ]
    },
    {
      "cell_type": "code",
      "source": [
        "num_classes = len(np.unique(labels))  # Check how many unique labels you have\n",
        "print(\"Number of classes:\", num_classes)\n"
      ],
      "metadata": {
        "execution": {
          "iopub.status.busy": "2024-07-30T20:26:31.082868Z",
          "iopub.execute_input": "2024-07-30T20:26:31.083178Z",
          "iopub.status.idle": "2024-07-30T20:26:31.093952Z",
          "shell.execute_reply.started": "2024-07-30T20:26:31.083151Z",
          "shell.execute_reply": "2024-07-30T20:26:31.093028Z"
        },
        "trusted": true,
        "id": "jkO5eNtP0YOo",
        "outputId": "b3b28fdf-667d-463d-c5a1-c1d15d595bf4",
        "colab": {
          "base_uri": "https://localhost:8080/"
        }
      },
      "execution_count": 26,
      "outputs": [
        {
          "output_type": "stream",
          "name": "stdout",
          "text": [
            "Number of classes: 2\n"
          ]
        }
      ]
    },
    {
      "cell_type": "code",
      "source": [
        "# Define model\n",
        "\n",
        "model = Sequential([\n",
        "    Input(shape=(64, 64, 1)),\n",
        "\n",
        "    Conv2D(512, (5, 5), activation='relu'),\n",
        "\n",
        "    MaxPooling2D(pool_size=(2, 2)),\n",
        "\n",
        "    Conv2D(256, (3, 3), activation='relu'),\n",
        "    MaxPooling2D(pool_size=(2, 2)),\n",
        "\n",
        "    Conv2D(256, (3, 3), activation='relu'),\n",
        "    MaxPooling2D(pool_size=(2, 2)),\n",
        "\n",
        "    Flatten(),\n",
        "\n",
        "    Dense(512, activation='relu'),\n",
        "    Dropout(0.1),\n",
        "\n",
        "    Dense(1024, activation='relu'),\n",
        "\n",
        "    Dense(512, activation='relu'),\n",
        "    Dropout(0.1),\n",
        "\n",
        "    Dense(256, activation='sigmoid'),\n",
        "\n",
        "    Dense(62, activation='softmax')\n",
        "])"
      ],
      "metadata": {
        "execution": {
          "iopub.status.busy": "2024-07-30T20:33:27.699299Z",
          "iopub.execute_input": "2024-07-30T20:33:27.699654Z",
          "iopub.status.idle": "2024-07-30T20:33:27.774073Z",
          "shell.execute_reply.started": "2024-07-30T20:33:27.699628Z",
          "shell.execute_reply": "2024-07-30T20:33:27.773312Z"
        },
        "trusted": true,
        "id": "AtFjTRvi0YOo"
      },
      "execution_count": 27,
      "outputs": []
    },
    {
      "cell_type": "code",
      "source": [
        "model.summary()\n"
      ],
      "metadata": {
        "execution": {
          "iopub.status.busy": "2024-07-30T20:33:30.070608Z",
          "iopub.execute_input": "2024-07-30T20:33:30.071277Z",
          "iopub.status.idle": "2024-07-30T20:33:30.098982Z",
          "shell.execute_reply.started": "2024-07-30T20:33:30.071242Z",
          "shell.execute_reply": "2024-07-30T20:33:30.098125Z"
        },
        "trusted": true,
        "collapsed": true,
        "id": "uS_Hf4Oz0YOp",
        "outputId": "406ff258-1a04-407d-e87d-33f945f39df9",
        "colab": {
          "base_uri": "https://localhost:8080/",
          "height": 612
        }
      },
      "execution_count": null,
      "outputs": [
        {
          "output_type": "display_data",
          "data": {
            "text/plain": [
              "\u001b[1mModel: \"sequential_1\"\u001b[0m\n"
            ],
            "text/html": [
              "<pre style=\"white-space:pre;overflow-x:auto;line-height:normal;font-family:Menlo,'DejaVu Sans Mono',consolas,'Courier New',monospace\"><span style=\"font-weight: bold\">Model: \"sequential_1\"</span>\n",
              "</pre>\n"
            ]
          },
          "metadata": {}
        },
        {
          "output_type": "display_data",
          "data": {
            "text/plain": [
              "┏━━━━━━━━━━━━━━━━━━━━━━━━━━━━━━━━━┳━━━━━━━━━━━━━━━━━━━━━━━━┳━━━━━━━━━━━━━━━┓\n",
              "┃\u001b[1m \u001b[0m\u001b[1mLayer (type)                   \u001b[0m\u001b[1m \u001b[0m┃\u001b[1m \u001b[0m\u001b[1mOutput Shape          \u001b[0m\u001b[1m \u001b[0m┃\u001b[1m \u001b[0m\u001b[1m      Param #\u001b[0m\u001b[1m \u001b[0m┃\n",
              "┡━━━━━━━━━━━━━━━━━━━━━━━━━━━━━━━━━╇━━━━━━━━━━━━━━━━━━━━━━━━╇━━━━━━━━━━━━━━━┩\n",
              "│ conv2d_3 (\u001b[38;5;33mConv2D\u001b[0m)               │ (\u001b[38;5;45mNone\u001b[0m, \u001b[38;5;34m60\u001b[0m, \u001b[38;5;34m60\u001b[0m, \u001b[38;5;34m512\u001b[0m)    │        \u001b[38;5;34m13,312\u001b[0m │\n",
              "├─────────────────────────────────┼────────────────────────┼───────────────┤\n",
              "│ max_pooling2d_3 (\u001b[38;5;33mMaxPooling2D\u001b[0m)  │ (\u001b[38;5;45mNone\u001b[0m, \u001b[38;5;34m30\u001b[0m, \u001b[38;5;34m30\u001b[0m, \u001b[38;5;34m512\u001b[0m)    │             \u001b[38;5;34m0\u001b[0m │\n",
              "├─────────────────────────────────┼────────────────────────┼───────────────┤\n",
              "│ conv2d_4 (\u001b[38;5;33mConv2D\u001b[0m)               │ (\u001b[38;5;45mNone\u001b[0m, \u001b[38;5;34m28\u001b[0m, \u001b[38;5;34m28\u001b[0m, \u001b[38;5;34m256\u001b[0m)    │     \u001b[38;5;34m1,179,904\u001b[0m │\n",
              "├─────────────────────────────────┼────────────────────────┼───────────────┤\n",
              "│ max_pooling2d_4 (\u001b[38;5;33mMaxPooling2D\u001b[0m)  │ (\u001b[38;5;45mNone\u001b[0m, \u001b[38;5;34m14\u001b[0m, \u001b[38;5;34m14\u001b[0m, \u001b[38;5;34m256\u001b[0m)    │             \u001b[38;5;34m0\u001b[0m │\n",
              "├─────────────────────────────────┼────────────────────────┼───────────────┤\n",
              "│ conv2d_5 (\u001b[38;5;33mConv2D\u001b[0m)               │ (\u001b[38;5;45mNone\u001b[0m, \u001b[38;5;34m12\u001b[0m, \u001b[38;5;34m12\u001b[0m, \u001b[38;5;34m256\u001b[0m)    │       \u001b[38;5;34m590,080\u001b[0m │\n",
              "├─────────────────────────────────┼────────────────────────┼───────────────┤\n",
              "│ max_pooling2d_5 (\u001b[38;5;33mMaxPooling2D\u001b[0m)  │ (\u001b[38;5;45mNone\u001b[0m, \u001b[38;5;34m6\u001b[0m, \u001b[38;5;34m6\u001b[0m, \u001b[38;5;34m256\u001b[0m)      │             \u001b[38;5;34m0\u001b[0m │\n",
              "├─────────────────────────────────┼────────────────────────┼───────────────┤\n",
              "│ flatten_1 (\u001b[38;5;33mFlatten\u001b[0m)             │ (\u001b[38;5;45mNone\u001b[0m, \u001b[38;5;34m9216\u001b[0m)           │             \u001b[38;5;34m0\u001b[0m │\n",
              "├─────────────────────────────────┼────────────────────────┼───────────────┤\n",
              "│ dense_5 (\u001b[38;5;33mDense\u001b[0m)                 │ (\u001b[38;5;45mNone\u001b[0m, \u001b[38;5;34m512\u001b[0m)            │     \u001b[38;5;34m4,719,104\u001b[0m │\n",
              "├─────────────────────────────────┼────────────────────────┼───────────────┤\n",
              "│ dropout_2 (\u001b[38;5;33mDropout\u001b[0m)             │ (\u001b[38;5;45mNone\u001b[0m, \u001b[38;5;34m512\u001b[0m)            │             \u001b[38;5;34m0\u001b[0m │\n",
              "├─────────────────────────────────┼────────────────────────┼───────────────┤\n",
              "│ dense_6 (\u001b[38;5;33mDense\u001b[0m)                 │ (\u001b[38;5;45mNone\u001b[0m, \u001b[38;5;34m1024\u001b[0m)           │       \u001b[38;5;34m525,312\u001b[0m │\n",
              "├─────────────────────────────────┼────────────────────────┼───────────────┤\n",
              "│ dense_7 (\u001b[38;5;33mDense\u001b[0m)                 │ (\u001b[38;5;45mNone\u001b[0m, \u001b[38;5;34m512\u001b[0m)            │       \u001b[38;5;34m524,800\u001b[0m │\n",
              "├─────────────────────────────────┼────────────────────────┼───────────────┤\n",
              "│ dropout_3 (\u001b[38;5;33mDropout\u001b[0m)             │ (\u001b[38;5;45mNone\u001b[0m, \u001b[38;5;34m512\u001b[0m)            │             \u001b[38;5;34m0\u001b[0m │\n",
              "├─────────────────────────────────┼────────────────────────┼───────────────┤\n",
              "│ dense_8 (\u001b[38;5;33mDense\u001b[0m)                 │ (\u001b[38;5;45mNone\u001b[0m, \u001b[38;5;34m256\u001b[0m)            │       \u001b[38;5;34m131,328\u001b[0m │\n",
              "├─────────────────────────────────┼────────────────────────┼───────────────┤\n",
              "│ dense_9 (\u001b[38;5;33mDense\u001b[0m)                 │ (\u001b[38;5;45mNone\u001b[0m, \u001b[38;5;34m62\u001b[0m)             │        \u001b[38;5;34m15,934\u001b[0m │\n",
              "└─────────────────────────────────┴────────────────────────┴───────────────┘\n"
            ],
            "text/html": [
              "<pre style=\"white-space:pre;overflow-x:auto;line-height:normal;font-family:Menlo,'DejaVu Sans Mono',consolas,'Courier New',monospace\">┏━━━━━━━━━━━━━━━━━━━━━━━━━━━━━━━━━┳━━━━━━━━━━━━━━━━━━━━━━━━┳━━━━━━━━━━━━━━━┓\n",
              "┃<span style=\"font-weight: bold\"> Layer (type)                    </span>┃<span style=\"font-weight: bold\"> Output Shape           </span>┃<span style=\"font-weight: bold\">       Param # </span>┃\n",
              "┡━━━━━━━━━━━━━━━━━━━━━━━━━━━━━━━━━╇━━━━━━━━━━━━━━━━━━━━━━━━╇━━━━━━━━━━━━━━━┩\n",
              "│ conv2d_3 (<span style=\"color: #0087ff; text-decoration-color: #0087ff\">Conv2D</span>)               │ (<span style=\"color: #00d7ff; text-decoration-color: #00d7ff\">None</span>, <span style=\"color: #00af00; text-decoration-color: #00af00\">60</span>, <span style=\"color: #00af00; text-decoration-color: #00af00\">60</span>, <span style=\"color: #00af00; text-decoration-color: #00af00\">512</span>)    │        <span style=\"color: #00af00; text-decoration-color: #00af00\">13,312</span> │\n",
              "├─────────────────────────────────┼────────────────────────┼───────────────┤\n",
              "│ max_pooling2d_3 (<span style=\"color: #0087ff; text-decoration-color: #0087ff\">MaxPooling2D</span>)  │ (<span style=\"color: #00d7ff; text-decoration-color: #00d7ff\">None</span>, <span style=\"color: #00af00; text-decoration-color: #00af00\">30</span>, <span style=\"color: #00af00; text-decoration-color: #00af00\">30</span>, <span style=\"color: #00af00; text-decoration-color: #00af00\">512</span>)    │             <span style=\"color: #00af00; text-decoration-color: #00af00\">0</span> │\n",
              "├─────────────────────────────────┼────────────────────────┼───────────────┤\n",
              "│ conv2d_4 (<span style=\"color: #0087ff; text-decoration-color: #0087ff\">Conv2D</span>)               │ (<span style=\"color: #00d7ff; text-decoration-color: #00d7ff\">None</span>, <span style=\"color: #00af00; text-decoration-color: #00af00\">28</span>, <span style=\"color: #00af00; text-decoration-color: #00af00\">28</span>, <span style=\"color: #00af00; text-decoration-color: #00af00\">256</span>)    │     <span style=\"color: #00af00; text-decoration-color: #00af00\">1,179,904</span> │\n",
              "├─────────────────────────────────┼────────────────────────┼───────────────┤\n",
              "│ max_pooling2d_4 (<span style=\"color: #0087ff; text-decoration-color: #0087ff\">MaxPooling2D</span>)  │ (<span style=\"color: #00d7ff; text-decoration-color: #00d7ff\">None</span>, <span style=\"color: #00af00; text-decoration-color: #00af00\">14</span>, <span style=\"color: #00af00; text-decoration-color: #00af00\">14</span>, <span style=\"color: #00af00; text-decoration-color: #00af00\">256</span>)    │             <span style=\"color: #00af00; text-decoration-color: #00af00\">0</span> │\n",
              "├─────────────────────────────────┼────────────────────────┼───────────────┤\n",
              "│ conv2d_5 (<span style=\"color: #0087ff; text-decoration-color: #0087ff\">Conv2D</span>)               │ (<span style=\"color: #00d7ff; text-decoration-color: #00d7ff\">None</span>, <span style=\"color: #00af00; text-decoration-color: #00af00\">12</span>, <span style=\"color: #00af00; text-decoration-color: #00af00\">12</span>, <span style=\"color: #00af00; text-decoration-color: #00af00\">256</span>)    │       <span style=\"color: #00af00; text-decoration-color: #00af00\">590,080</span> │\n",
              "├─────────────────────────────────┼────────────────────────┼───────────────┤\n",
              "│ max_pooling2d_5 (<span style=\"color: #0087ff; text-decoration-color: #0087ff\">MaxPooling2D</span>)  │ (<span style=\"color: #00d7ff; text-decoration-color: #00d7ff\">None</span>, <span style=\"color: #00af00; text-decoration-color: #00af00\">6</span>, <span style=\"color: #00af00; text-decoration-color: #00af00\">6</span>, <span style=\"color: #00af00; text-decoration-color: #00af00\">256</span>)      │             <span style=\"color: #00af00; text-decoration-color: #00af00\">0</span> │\n",
              "├─────────────────────────────────┼────────────────────────┼───────────────┤\n",
              "│ flatten_1 (<span style=\"color: #0087ff; text-decoration-color: #0087ff\">Flatten</span>)             │ (<span style=\"color: #00d7ff; text-decoration-color: #00d7ff\">None</span>, <span style=\"color: #00af00; text-decoration-color: #00af00\">9216</span>)           │             <span style=\"color: #00af00; text-decoration-color: #00af00\">0</span> │\n",
              "├─────────────────────────────────┼────────────────────────┼───────────────┤\n",
              "│ dense_5 (<span style=\"color: #0087ff; text-decoration-color: #0087ff\">Dense</span>)                 │ (<span style=\"color: #00d7ff; text-decoration-color: #00d7ff\">None</span>, <span style=\"color: #00af00; text-decoration-color: #00af00\">512</span>)            │     <span style=\"color: #00af00; text-decoration-color: #00af00\">4,719,104</span> │\n",
              "├─────────────────────────────────┼────────────────────────┼───────────────┤\n",
              "│ dropout_2 (<span style=\"color: #0087ff; text-decoration-color: #0087ff\">Dropout</span>)             │ (<span style=\"color: #00d7ff; text-decoration-color: #00d7ff\">None</span>, <span style=\"color: #00af00; text-decoration-color: #00af00\">512</span>)            │             <span style=\"color: #00af00; text-decoration-color: #00af00\">0</span> │\n",
              "├─────────────────────────────────┼────────────────────────┼───────────────┤\n",
              "│ dense_6 (<span style=\"color: #0087ff; text-decoration-color: #0087ff\">Dense</span>)                 │ (<span style=\"color: #00d7ff; text-decoration-color: #00d7ff\">None</span>, <span style=\"color: #00af00; text-decoration-color: #00af00\">1024</span>)           │       <span style=\"color: #00af00; text-decoration-color: #00af00\">525,312</span> │\n",
              "├─────────────────────────────────┼────────────────────────┼───────────────┤\n",
              "│ dense_7 (<span style=\"color: #0087ff; text-decoration-color: #0087ff\">Dense</span>)                 │ (<span style=\"color: #00d7ff; text-decoration-color: #00d7ff\">None</span>, <span style=\"color: #00af00; text-decoration-color: #00af00\">512</span>)            │       <span style=\"color: #00af00; text-decoration-color: #00af00\">524,800</span> │\n",
              "├─────────────────────────────────┼────────────────────────┼───────────────┤\n",
              "│ dropout_3 (<span style=\"color: #0087ff; text-decoration-color: #0087ff\">Dropout</span>)             │ (<span style=\"color: #00d7ff; text-decoration-color: #00d7ff\">None</span>, <span style=\"color: #00af00; text-decoration-color: #00af00\">512</span>)            │             <span style=\"color: #00af00; text-decoration-color: #00af00\">0</span> │\n",
              "├─────────────────────────────────┼────────────────────────┼───────────────┤\n",
              "│ dense_8 (<span style=\"color: #0087ff; text-decoration-color: #0087ff\">Dense</span>)                 │ (<span style=\"color: #00d7ff; text-decoration-color: #00d7ff\">None</span>, <span style=\"color: #00af00; text-decoration-color: #00af00\">256</span>)            │       <span style=\"color: #00af00; text-decoration-color: #00af00\">131,328</span> │\n",
              "├─────────────────────────────────┼────────────────────────┼───────────────┤\n",
              "│ dense_9 (<span style=\"color: #0087ff; text-decoration-color: #0087ff\">Dense</span>)                 │ (<span style=\"color: #00d7ff; text-decoration-color: #00d7ff\">None</span>, <span style=\"color: #00af00; text-decoration-color: #00af00\">62</span>)             │        <span style=\"color: #00af00; text-decoration-color: #00af00\">15,934</span> │\n",
              "└─────────────────────────────────┴────────────────────────┴───────────────┘\n",
              "</pre>\n"
            ]
          },
          "metadata": {}
        },
        {
          "output_type": "display_data",
          "data": {
            "text/plain": [
              "\u001b[1m Total params: \u001b[0m\u001b[38;5;34m7,699,774\u001b[0m (29.37 MB)\n"
            ],
            "text/html": [
              "<pre style=\"white-space:pre;overflow-x:auto;line-height:normal;font-family:Menlo,'DejaVu Sans Mono',consolas,'Courier New',monospace\"><span style=\"font-weight: bold\"> Total params: </span><span style=\"color: #00af00; text-decoration-color: #00af00\">7,699,774</span> (29.37 MB)\n",
              "</pre>\n"
            ]
          },
          "metadata": {}
        },
        {
          "output_type": "display_data",
          "data": {
            "text/plain": [
              "\u001b[1m Trainable params: \u001b[0m\u001b[38;5;34m7,699,774\u001b[0m (29.37 MB)\n"
            ],
            "text/html": [
              "<pre style=\"white-space:pre;overflow-x:auto;line-height:normal;font-family:Menlo,'DejaVu Sans Mono',consolas,'Courier New',monospace\"><span style=\"font-weight: bold\"> Trainable params: </span><span style=\"color: #00af00; text-decoration-color: #00af00\">7,699,774</span> (29.37 MB)\n",
              "</pre>\n"
            ]
          },
          "metadata": {}
        },
        {
          "output_type": "display_data",
          "data": {
            "text/plain": [
              "\u001b[1m Non-trainable params: \u001b[0m\u001b[38;5;34m0\u001b[0m (0.00 B)\n"
            ],
            "text/html": [
              "<pre style=\"white-space:pre;overflow-x:auto;line-height:normal;font-family:Menlo,'DejaVu Sans Mono',consolas,'Courier New',monospace\"><span style=\"font-weight: bold\"> Non-trainable params: </span><span style=\"color: #00af00; text-decoration-color: #00af00\">0</span> (0.00 B)\n",
              "</pre>\n"
            ]
          },
          "metadata": {}
        }
      ]
    },
    {
      "cell_type": "code",
      "source": [
        "print(\"Shape of X_train:\", X_train.shape)\n",
        "print(\"Shape of X_val:\", X_val.shape)\n",
        "print(\"Shape of X_test:\", X_test.shape)\n"
      ],
      "metadata": {
        "execution": {
          "iopub.status.busy": "2024-07-30T20:33:33.046918Z",
          "iopub.execute_input": "2024-07-30T20:33:33.047284Z",
          "iopub.status.idle": "2024-07-30T20:33:33.052588Z",
          "shell.execute_reply.started": "2024-07-30T20:33:33.047254Z",
          "shell.execute_reply": "2024-07-30T20:33:33.051654Z"
        },
        "trusted": true,
        "id": "6kyvl3Hb0YOp",
        "outputId": "f76847ad-4eb6-46dd-9ae0-9c6740b9d64e",
        "colab": {
          "base_uri": "https://localhost:8080/"
        }
      },
      "execution_count": 28,
      "outputs": [
        {
          "output_type": "stream",
          "name": "stdout",
          "text": [
            "Shape of X_train: (11935, 64, 64, 1)\n",
            "Shape of X_val: (511, 64, 64)\n",
            "Shape of X_test: (512, 64, 64)\n"
          ]
        }
      ]
    },
    {
      "cell_type": "code",
      "source": [
        "import tensorflow as tf\n",
        "\n",
        "from tensorflow.keras.mixed_precision import global_policy, set_global_policy, Policy\n",
        "\n",
        "# Create a mixed precision policy\n",
        "policy = Policy('mixed_float16')\n",
        "set_global_policy(policy)\n",
        "\n",
        "def scheduler(epoch, lr):\n",
        "    if epoch < 3:\n",
        "        return lr\n",
        "    else:\n",
        "        return float(lr * tf.math.exp(-0.1))\n",
        "\n",
        "\n",
        "lr_scheduler = LearningRateScheduler(scheduler)\n",
        "\n",
        "# Define early stopping\n",
        "early_stopping = EarlyStopping(monitor='val_loss', patience=5, restore_best_weights=True)\n",
        "\n",
        "# Compile the model\n",
        "model.compile(optimizer=Adam(learning_rate=1e-4),  # Use a lower learning rate for stability\n",
        "              loss='categorical_crossentropy',\n",
        "              metrics=['accuracy'])\n",
        "\n",
        "# Train the model with the callbacks\n",
        "history = model.fit(\n",
        "    X_train, Y_train,\n",
        "    epochs=5,\n",
        "    batch_size=32,\n",
        "    validation_data=(X_val, Y_val),\n",
        "    callbacks=[lr_scheduler, early_stopping]  # Add both callbacks here\n",
        ")\n"
      ],
      "metadata": {
        "execution": {
          "iopub.status.busy": "2024-07-30T20:33:36.436406Z",
          "iopub.execute_input": "2024-07-30T20:33:36.437041Z",
          "iopub.status.idle": "2024-07-30T20:36:19.477273Z",
          "shell.execute_reply.started": "2024-07-30T20:33:36.437008Z",
          "shell.execute_reply": "2024-07-30T20:36:19.476382Z"
        },
        "trusted": true,
        "id": "PXWwGA6Q0YOp",
        "outputId": "cf912395-f19f-4a0e-b8fc-95681371908c",
        "colab": {
          "base_uri": "https://localhost:8080/"
        }
      },
      "execution_count": 29,
      "outputs": [
        {
          "output_type": "stream",
          "name": "stdout",
          "text": [
            "Epoch 1/5\n",
            "\u001b[1m373/373\u001b[0m \u001b[32m━━━━━━━━━━━━━━━━━━━━\u001b[0m\u001b[37m\u001b[0m \u001b[1m39s\u001b[0m 73ms/step - accuracy: 0.0157 - loss: 4.1854 - val_accuracy: 0.0352 - val_loss: 4.0151 - learning_rate: 1.0000e-04\n",
            "Epoch 2/5\n",
            "\u001b[1m373/373\u001b[0m \u001b[32m━━━━━━━━━━━━━━━━━━━━\u001b[0m\u001b[37m\u001b[0m \u001b[1m16s\u001b[0m 42ms/step - accuracy: 0.0764 - loss: 3.7047 - val_accuracy: 0.2329 - val_loss: 2.9184 - learning_rate: 1.0000e-04\n",
            "Epoch 3/5\n",
            "\u001b[1m373/373\u001b[0m \u001b[32m━━━━━━━━━━━━━━━━━━━━\u001b[0m\u001b[37m\u001b[0m \u001b[1m20s\u001b[0m 42ms/step - accuracy: 0.1852 - loss: 3.0221 - val_accuracy: 0.3659 - val_loss: 2.3372 - learning_rate: 1.0000e-04\n",
            "Epoch 4/5\n",
            "\u001b[1m373/373\u001b[0m \u001b[32m━━━━━━━━━━━━━━━━━━━━\u001b[0m\u001b[37m\u001b[0m \u001b[1m21s\u001b[0m 42ms/step - accuracy: 0.3378 - loss: 2.4775 - val_accuracy: 0.5205 - val_loss: 1.8379 - learning_rate: 9.0484e-05\n",
            "Epoch 5/5\n",
            "\u001b[1m373/373\u001b[0m \u001b[32m━━━━━━━━━━━━━━━━━━━━\u001b[0m\u001b[37m\u001b[0m \u001b[1m16s\u001b[0m 42ms/step - accuracy: 0.4676 - loss: 2.0430 - val_accuracy: 0.5812 - val_loss: 1.5214 - learning_rate: 8.1873e-05\n"
          ]
        }
      ]
    },
    {
      "cell_type": "code",
      "source": [
        "model.save('final_model.h5')\n"
      ],
      "metadata": {
        "id": "YATcYzuGClxq",
        "outputId": "1107b262-81a2-487c-85aa-e48115be9303",
        "colab": {
          "base_uri": "https://localhost:8080/"
        }
      },
      "execution_count": 31,
      "outputs": [
        {
          "output_type": "stream",
          "name": "stderr",
          "text": [
            "WARNING:absl:You are saving your model as an HDF5 file via `model.save()` or `keras.saving.save_model(model)`. This file format is considered legacy. We recommend using instead the native Keras format, e.g. `model.save('my_model.keras')` or `keras.saving.save_model(model, 'my_model.keras')`. \n"
          ]
        }
      ]
    },
    {
      "cell_type": "code",
      "source": [
        "import tensorflow as tf\n",
        "from tensorflow.keras.models import load_model\n",
        "from tensorflow.keras.optimizers import Adam\n",
        "from tensorflow.keras.callbacks import LearningRateScheduler, EarlyStopping\n",
        "from tensorflow.keras.mixed_precision import Policy, set_global_policy\n",
        "\n",
        "# === Set Mixed Precision Policy ===\n",
        "policy = Policy('mixed_float16')\n",
        "set_global_policy(policy)\n",
        "\n",
        "# === Load the Model ===\n",
        "model = load_model('/content/final_model.h5')\n",
        "\n",
        "# === Learning Rate Scheduler ===\n",
        "def scheduler(epoch, lr):\n",
        "    if epoch < 3:\n",
        "        return lr\n",
        "    else:\n",
        "        return float(lr * tf.math.exp(-0.1))\n",
        "\n",
        "lr_scheduler = LearningRateScheduler(scheduler)\n",
        "\n",
        "# === Early Stopping Callback ===\n",
        "early_stopping = EarlyStopping(monitor='val_loss', patience=5, restore_best_weights=True)\n",
        "\n",
        "# === Compile the Model ===\n",
        "# Explicitly re-define the optimizer because the state isn't loaded.\n",
        "model.compile(\n",
        "    optimizer=Adam(learning_rate=1e-4),  # Ensure you're using the same optimizer configuration\n",
        "    loss='categorical_crossentropy',\n",
        "    metrics=['accuracy']\n",
        ")\n",
        "\n",
        "# === Continue Training ===\n",
        "history = model.fit(\n",
        "    X_train, Y_train,\n",
        "    epochs=30,  # Updated to 20\n",
        "    batch_size=32,\n",
        "    validation_data=(X_val, Y_val),\n",
        "    callbacks=[lr_scheduler, early_stopping]\n",
        ")\n"
      ],
      "metadata": {
        "colab": {
          "base_uri": "https://localhost:8080/"
        },
        "id": "Vovi_s3wVbSP",
        "outputId": "c4bc853d-77c6-4d1e-e6e3-d46ad5ba6b40"
      },
      "execution_count": null,
      "outputs": [
        {
          "output_type": "stream",
          "name": "stderr",
          "text": [
            "WARNING:absl:Compiled the loaded model, but the compiled metrics have yet to be built. `model.compile_metrics` will be empty until you train or evaluate the model.\n",
            "WARNING:absl:Error in loading the saved optimizer state. As a result, your model is starting with a freshly initialized optimizer.\n"
          ]
        },
        {
          "output_type": "stream",
          "name": "stdout",
          "text": [
            "Epoch 1/30\n",
            "\u001b[1m373/373\u001b[0m \u001b[32m━━━━━━━━━━━━━━━━━━━━\u001b[0m\u001b[37m\u001b[0m \u001b[1m25s\u001b[0m 50ms/step - accuracy: 0.5634 - loss: 1.7003 - val_accuracy: 0.6595 - val_loss: 1.2657 - learning_rate: 1.0000e-04\n",
            "Epoch 2/30\n",
            "\u001b[1m373/373\u001b[0m \u001b[32m━━━━━━━━━━━━━━━━━━━━\u001b[0m\u001b[37m\u001b[0m \u001b[1m15s\u001b[0m 39ms/step - accuracy: 0.6266 - loss: 1.3910 - val_accuracy: 0.6791 - val_loss: 1.0750 - learning_rate: 1.0000e-04\n",
            "Epoch 3/30\n",
            "\u001b[1m373/373\u001b[0m \u001b[32m━━━━━━━━━━━━━━━━━━━━\u001b[0m\u001b[37m\u001b[0m \u001b[1m15s\u001b[0m 40ms/step - accuracy: 0.6980 - loss: 1.1442 - val_accuracy: 0.7104 - val_loss: 0.9352 - learning_rate: 1.0000e-04\n",
            "Epoch 4/30\n",
            "\u001b[1m373/373\u001b[0m \u001b[32m━━━━━━━━━━━━━━━━━━━━\u001b[0m\u001b[37m\u001b[0m \u001b[1m15s\u001b[0m 40ms/step - accuracy: 0.7346 - loss: 0.9706 - val_accuracy: 0.7299 - val_loss: 0.8456 - learning_rate: 9.0484e-05\n",
            "Epoch 5/30\n",
            "\u001b[1m373/373\u001b[0m \u001b[32m━━━━━━━━━━━━━━━━━━━━\u001b[0m\u001b[37m\u001b[0m \u001b[1m15s\u001b[0m 40ms/step - accuracy: 0.7740 - loss: 0.8191 - val_accuracy: 0.7358 - val_loss: 0.7885 - learning_rate: 8.1873e-05\n",
            "Epoch 6/30\n",
            "\u001b[1m373/373\u001b[0m \u001b[32m━━━━━━━━━━━━━━━━━━━━\u001b[0m\u001b[37m\u001b[0m \u001b[1m20s\u001b[0m 40ms/step - accuracy: 0.8025 - loss: 0.7189 - val_accuracy: 0.7789 - val_loss: 0.6941 - learning_rate: 7.4082e-05\n",
            "Epoch 7/30\n",
            "\u001b[1m373/373\u001b[0m \u001b[32m━━━━━━━━━━━━━━━━━━━━\u001b[0m\u001b[37m\u001b[0m \u001b[1m15s\u001b[0m 40ms/step - accuracy: 0.8303 - loss: 0.6306 - val_accuracy: 0.7828 - val_loss: 0.6516 - learning_rate: 6.7032e-05\n",
            "Epoch 8/30\n",
            "\u001b[1m373/373\u001b[0m \u001b[32m━━━━━━━━━━━━━━━━━━━━\u001b[0m\u001b[37m\u001b[0m \u001b[1m21s\u001b[0m 40ms/step - accuracy: 0.8501 - loss: 0.5494 - val_accuracy: 0.8082 - val_loss: 0.6130 - learning_rate: 6.0653e-05\n",
            "Epoch 9/30\n",
            "\u001b[1m373/373\u001b[0m \u001b[32m━━━━━━━━━━━━━━━━━━━━\u001b[0m\u001b[37m\u001b[0m \u001b[1m15s\u001b[0m 41ms/step - accuracy: 0.8729 - loss: 0.4817 - val_accuracy: 0.7965 - val_loss: 0.5974 - learning_rate: 5.4881e-05\n",
            "Epoch 10/30\n",
            "\u001b[1m373/373\u001b[0m \u001b[32m━━━━━━━━━━━━━━━━━━━━\u001b[0m\u001b[37m\u001b[0m \u001b[1m15s\u001b[0m 41ms/step - accuracy: 0.8810 - loss: 0.4437 - val_accuracy: 0.8141 - val_loss: 0.6004 - learning_rate: 4.9659e-05\n",
            "Epoch 11/30\n",
            "\u001b[1m373/373\u001b[0m \u001b[32m━━━━━━━━━━━━━━━━━━━━\u001b[0m\u001b[37m\u001b[0m \u001b[1m21s\u001b[0m 41ms/step - accuracy: 0.9017 - loss: 0.3900 - val_accuracy: 0.8160 - val_loss: 0.5905 - learning_rate: 4.4933e-05\n",
            "Epoch 12/30\n",
            "\u001b[1m373/373\u001b[0m \u001b[32m━━━━━━━━━━━━━━━━━━━━\u001b[0m\u001b[37m\u001b[0m \u001b[1m20s\u001b[0m 41ms/step - accuracy: 0.9109 - loss: 0.3626 - val_accuracy: 0.8239 - val_loss: 0.5597 - learning_rate: 4.0657e-05\n",
            "Epoch 13/30\n",
            "\u001b[1m373/373\u001b[0m \u001b[32m━━━━━━━━━━━━━━━━━━━━\u001b[0m\u001b[37m\u001b[0m \u001b[1m15s\u001b[0m 41ms/step - accuracy: 0.9239 - loss: 0.3235 - val_accuracy: 0.8180 - val_loss: 0.5732 - learning_rate: 3.6788e-05\n",
            "Epoch 14/30\n",
            "\u001b[1m373/373\u001b[0m \u001b[32m━━━━━━━━━━━━━━━━━━━━\u001b[0m\u001b[37m\u001b[0m \u001b[1m21s\u001b[0m 41ms/step - accuracy: 0.9241 - loss: 0.2984 - val_accuracy: 0.8219 - val_loss: 0.5429 - learning_rate: 3.3287e-05\n",
            "Epoch 15/30\n",
            "\u001b[1m373/373\u001b[0m \u001b[32m━━━━━━━━━━━━━━━━━━━━\u001b[0m\u001b[37m\u001b[0m \u001b[1m15s\u001b[0m 41ms/step - accuracy: 0.9358 - loss: 0.2677 - val_accuracy: 0.8102 - val_loss: 0.5508 - learning_rate: 3.0119e-05\n",
            "Epoch 16/30\n",
            "\u001b[1m373/373\u001b[0m \u001b[32m━━━━━━━━━━━━━━━━━━━━\u001b[0m\u001b[37m\u001b[0m \u001b[1m15s\u001b[0m 41ms/step - accuracy: 0.9383 - loss: 0.2593 - val_accuracy: 0.8180 - val_loss: 0.5329 - learning_rate: 2.7253e-05\n",
            "Epoch 17/30\n",
            "\u001b[1m373/373\u001b[0m \u001b[32m━━━━━━━━━━━━━━━━━━━━\u001b[0m\u001b[37m\u001b[0m \u001b[1m15s\u001b[0m 41ms/step - accuracy: 0.9441 - loss: 0.2405 - val_accuracy: 0.8297 - val_loss: 0.5329 - learning_rate: 2.4660e-05\n",
            "Epoch 18/30\n",
            "\u001b[1m373/373\u001b[0m \u001b[32m━━━━━━━━━━━━━━━━━━━━\u001b[0m\u001b[37m\u001b[0m \u001b[1m21s\u001b[0m 41ms/step - accuracy: 0.9482 - loss: 0.2245 - val_accuracy: 0.8258 - val_loss: 0.5286 - learning_rate: 2.2313e-05\n",
            "Epoch 19/30\n",
            "\u001b[1m373/373\u001b[0m \u001b[32m━━━━━━━━━━━━━━━━━━━━\u001b[0m\u001b[37m\u001b[0m \u001b[1m15s\u001b[0m 41ms/step - accuracy: 0.9572 - loss: 0.2065 - val_accuracy: 0.8258 - val_loss: 0.5425 - learning_rate: 2.0190e-05\n",
            "Epoch 20/30\n",
            "\u001b[1m373/373\u001b[0m \u001b[32m━━━━━━━━━━━━━━━━━━━━\u001b[0m\u001b[37m\u001b[0m \u001b[1m15s\u001b[0m 41ms/step - accuracy: 0.9574 - loss: 0.2036 - val_accuracy: 0.8317 - val_loss: 0.5324 - learning_rate: 1.8268e-05\n",
            "Epoch 21/30\n",
            "\u001b[1m373/373\u001b[0m \u001b[32m━━━━━━━━━━━━━━━━━━━━\u001b[0m\u001b[37m\u001b[0m \u001b[1m15s\u001b[0m 41ms/step - accuracy: 0.9611 - loss: 0.1887 - val_accuracy: 0.8258 - val_loss: 0.5404 - learning_rate: 1.6530e-05\n",
            "Epoch 22/30\n",
            "\u001b[1m373/373\u001b[0m \u001b[32m━━━━━━━━━━━━━━━━━━━━\u001b[0m\u001b[37m\u001b[0m \u001b[1m20s\u001b[0m 41ms/step - accuracy: 0.9611 - loss: 0.1839 - val_accuracy: 0.8297 - val_loss: 0.5389 - learning_rate: 1.4957e-05\n",
            "Epoch 23/30\n",
            "\u001b[1m373/373\u001b[0m \u001b[32m━━━━━━━━━━━━━━━━━━━━\u001b[0m\u001b[37m\u001b[0m \u001b[1m15s\u001b[0m 41ms/step - accuracy: 0.9668 - loss: 0.1727 - val_accuracy: 0.8337 - val_loss: 0.5268 - learning_rate: 1.3534e-05\n",
            "Epoch 24/30\n",
            "\u001b[1m373/373\u001b[0m \u001b[32m━━━━━━━━━━━━━━━━━━━━\u001b[0m\u001b[37m\u001b[0m \u001b[1m21s\u001b[0m 41ms/step - accuracy: 0.9623 - loss: 0.1718 - val_accuracy: 0.8258 - val_loss: 0.5274 - learning_rate: 1.2246e-05\n",
            "Epoch 25/30\n",
            "\u001b[1m369/373\u001b[0m \u001b[32m━━━━━━━━━━━━━━━━━━━\u001b[0m\u001b[37m━\u001b[0m \u001b[1m0s\u001b[0m 40ms/step - accuracy: 0.9690 - loss: 0.1600"
          ]
        }
      ]
    },
    {
      "cell_type": "code",
      "source": [
        "import tensorflow as tf\n",
        "import numpy as np\n",
        "import cv2\n",
        "import os\n",
        "\n",
        "# Load the trained model\n",
        "model = tf.keras.models.load_model('/content/final_model.h5')  # replace with your model's file path\n",
        "\n",
        "# Define the image path for prediction\n",
        "image_path = \"/content/jay.png\"\n",
        "\n",
        "# Load the image (ensure it's grayscale, as expected by the model)\n",
        "image = cv2.imread(image_path, cv2.IMREAD_GRAYSCALE)\n",
        "\n",
        "# Resize the image to 64x64 (this matches the training preprocessing)\n",
        "image = cv2.resize(image, (64, 64))\n",
        "\n",
        "# Normalize the image to the range [0, 1]\n",
        "image = image.astype(\"float32\") / 255.0\n",
        "\n",
        "# Add a batch dimension (making it shape (1, 64, 64, 1))\n",
        "image = np.expand_dims(image, axis=-1)  # shape becomes (64, 64, 1)\n",
        "image = np.expand_dims(image, axis=0)   # shape becomes (1, 64, 64, 1)\n",
        "\n",
        "# Make the prediction\n",
        "predictions = model.predict(image)\n",
        "\n",
        "# Get the predicted class (for classification models)\n",
        "predicted_class = np.argmax(predictions, axis=-1)\n",
        "\n",
        "print(f\"Predicted class: {predicted_class}\")\n"
      ],
      "metadata": {
        "colab": {
          "base_uri": "https://localhost:8080/"
        },
        "id": "1P6J9l94YMa3",
        "outputId": "e23c8eb5-76f7-47bb-d36f-c81a7a6fd405"
      },
      "execution_count": 56,
      "outputs": [
        {
          "output_type": "stream",
          "name": "stderr",
          "text": [
            "WARNING:absl:Compiled the loaded model, but the compiled metrics have yet to be built. `model.compile_metrics` will be empty until you train or evaluate the model.\n",
            "WARNING:absl:Error in loading the saved optimizer state. As a result, your model is starting with a freshly initialized optimizer.\n",
            "Exception ignored in: <function _xla_gc_callback at 0x7a2627cce5c0>\n",
            "Traceback (most recent call last):\n",
            "  File \"/usr/local/lib/python3.11/dist-packages/jax/_src/lib/__init__.py\", line 96, in _xla_gc_callback\n",
            "    def _xla_gc_callback(*args):\n",
            "    \n",
            "KeyboardInterrupt: \n"
          ]
        },
        {
          "output_type": "stream",
          "name": "stdout",
          "text": [
            "\u001b[1m1/1\u001b[0m \u001b[32m━━━━━━━━━━━━━━━━━━━━\u001b[0m\u001b[37m\u001b[0m \u001b[1m149s\u001b[0m 149s/step\n",
            "Predicted class: [19]\n"
          ]
        }
      ]
    },
    {
      "cell_type": "code",
      "source": [
        "import tensorflow as tf\n",
        "import numpy as np\n",
        "import cv2\n",
        "import matplotlib.pyplot as plt\n",
        "\n",
        "# Define the class labels\n",
        "class_labels = [\n",
        "    '0', '1', '2', '3', '4', '5', '6', '7', '8', '9', 'A', 'B', 'C', 'D', 'E', 'F', 'G', 'H',\n",
        "    'I', 'J', 'K', 'L', 'M', 'N', 'O', 'P', 'Q', 'R', 'S', 'T', 'U', 'V', 'W', 'X', 'Y', 'Z',\n",
        "    'a', 'b', 'c', 'd', 'e', 'f', 'g', 'h', 'i', 'j', 'k', 'l', 'm', 'n', 'o', 'p', 'q', 'r',\n",
        "    's', 't', 'u', 'v', 'w', 'x', 'y', 'z'\n",
        "]\n",
        "\n",
        "# Load the trained model\n",
        "model = tf.keras.models.load_model('/content/final_model.h5')  # replace with your model's file path\n",
        "\n",
        "# Define the image path for prediction\n",
        "image_path = \"/content/N.png\"\n",
        "\n",
        "# Load the image (ensure it's grayscale, as expected by the model)\n",
        "image = cv2.imread(image_path, cv2.IMREAD_GRAYSCALE)\n",
        "\n",
        "# Resize the image to 64x64 (this matches the training preprocessing)\n",
        "image_resized = cv2.resize(image, (64, 64))\n",
        "\n",
        "# Normalize the image to the range [0, 1]\n",
        "image_resized = image_resized.astype(\"float32\") / 255.0\n",
        "\n",
        "# Add a batch dimension (making it shape (1, 64, 64, 1))\n",
        "image_resized = np.expand_dims(image_resized, axis=-1)  # shape becomes (64, 64, 1)\n",
        "image_resized = np.expand_dims(image_resized, axis=0)   # shape becomes (1, 64, 64, 1)\n",
        "\n",
        "# Make the prediction\n",
        "predictions = model.predict(image_resized)\n",
        "\n",
        "# Get the predicted index (for classification models)\n",
        "predicted_index = np.argmax(predictions, axis=-1)\n",
        "\n",
        "# Get the predicted class label\n",
        "predicted_label = class_labels[predicted_index[0]]\n",
        "\n",
        "# Display the image and predicted label\n",
        "plt.imshow(image, cmap='gray')  # Show the original image\n",
        "plt.title(f\"Predicted: {predicted_label}\")  # Display the predicted label as the title\n",
        "plt.axis('off')  # Hide axes for a cleaner image display\n",
        "plt.show()\n",
        "\n",
        "print(f\"Predicted class: {predicted_label}\")\n"
      ],
      "metadata": {
        "colab": {
          "base_uri": "https://localhost:8080/",
          "height": 497
        },
        "id": "N-KSsisDh80D",
        "outputId": "c70cf1bc-f9eb-4c2d-9476-fbab8d94d479"
      },
      "execution_count": 70,
      "outputs": [
        {
          "output_type": "stream",
          "name": "stderr",
          "text": [
            "WARNING:absl:Compiled the loaded model, but the compiled metrics have yet to be built. `model.compile_metrics` will be empty until you train or evaluate the model.\n",
            "WARNING:absl:Error in loading the saved optimizer state. As a result, your model is starting with a freshly initialized optimizer.\n"
          ]
        },
        {
          "output_type": "stream",
          "name": "stdout",
          "text": [
            "\u001b[1m1/1\u001b[0m \u001b[32m━━━━━━━━━━━━━━━━━━━━\u001b[0m\u001b[37m\u001b[0m \u001b[1m0s\u001b[0m 475ms/step\n"
          ]
        },
        {
          "output_type": "display_data",
          "data": {
            "text/plain": [
              "<Figure size 640x480 with 1 Axes>"
            ],
            "image/png": "[encoded data removed]"
          },
          "metadata": {}
        },
        {
          "output_type": "stream",
          "name": "stdout",
          "text": [
            "Predicted class: N\n"
          ]
        }
      ]
    }
  ]
}